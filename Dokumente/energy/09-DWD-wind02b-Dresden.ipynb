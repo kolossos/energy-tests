{
 "cells": [
  {
   "cell_type": "code",
   "execution_count": 1,
   "metadata": {
    "collapsed": true
   },
   "outputs": [],
   "source": [
    "%matplotlib inline\n",
    "#import sys    \n",
    "#reload(sys)  \n",
    "#sys.setdefaultencoding('utf8')\n",
    "\n",
    "import numpy as np\n",
    "import pandas as pd\n",
    "\n",
    "import matplotlib.pyplot as plt\n",
    "import matplotlib.dates as dates\n",
    "\n",
    "from __future__ import print_function # for python 2\n",
    "from ipywidgets import interact, interactive, fixed\n",
    "import ipywidgets as widgets"
   ]
  },
  {
   "cell_type": "code",
   "execution_count": 2,
   "metadata": {
    "collapsed": true
   },
   "outputs": [],
   "source": [
    "filename=\"stundenwerte_FF_01048_19730101_20151231_hist.zip\"   #ORT: DD Klotzsche historisch"
   ]
  },
  {
   "cell_type": "code",
   "execution_count": 3,
   "metadata": {
    "collapsed": false
   },
   "outputs": [
    {
     "name": "stdout",
     "output_type": "stream",
     "text": [
      "--2016-11-06 18:13:44--  ftp://ftp-cdc.dwd.de/pub/CDC/observations_germany/climate/hourly/wind/historical/stundenwerte_FF_01048_19730101_20151231_hist.zip\n",
      "           => »stundenwerte_FF_01048_19730101_20151231_hist.zip«\n",
      "Auflösen des Hostnamen »ftp-cdc.dwd.de (ftp-cdc.dwd.de)«... 141.38.3.177\n",
      "Verbindungsaufbau zu ftp-cdc.dwd.de (ftp-cdc.dwd.de)|141.38.3.177|:21... verbunden.\n",
      "Anmelden als anonymous ... Angemeldet!\n",
      "==> SYST ... fertig.    ==> PWD ... fertig.\n",
      "==> TYPE I ... fertig.  ==> CWD (1) /pub/CDC/observations_germany/climate/hourly/wind/historical ... fertig.\n",
      "==> SIZE stundenwerte_FF_01048_19730101_20151231_hist.zip ... 1637206\n",
      "==> PASV ... fertig.    ==> RETR stundenwerte_FF_01048_19730101_20151231_hist.zip ... fertig.\n",
      "Länge: 1637206 (1,6M) (unmaßgeblich)\n",
      "\n",
      "100%[======================================>] 1.637.206    537KB/s   in 3,0s   \n",
      "\n",
      "2016-11-06 18:13:48 (537 KB/s) - »stundenwerte_FF_01048_19730101_20151231_hist.zip« gespeichert [1637206]\n",
      "\n"
     ]
    }
   ],
   "source": [
    "!wget \"ftp://ftp-cdc.dwd.de/pub/CDC/observations_germany/climate/hourly/wind/historical/$filename\""
   ]
  },
  {
   "cell_type": "code",
   "execution_count": 13,
   "metadata": {
    "collapsed": false
   },
   "outputs": [
    {
     "name": "stdout",
     "output_type": "stream",
     "text": [
      "Archive:  stundenwerte_FF_01048_19730101_20151231_hist.zip\n",
      "  inflating: Beschreibung_wind_Element_Detail_01048.html  \n",
      "  inflating: Beschreibung_wind_Geraete_Detail_01048.html  \n",
      "  inflating: produkt_wind_Terminwerte_19730101_20151231_01048.txt  \n",
      "  inflating: Stationsmetadaten_wind_stationen_01048_19730101_20151231.txt  \n"
     ]
    }
   ],
   "source": [
    "!rm *_01048*.txt\n",
    "!rm *_01048*.html\n",
    "!unzip $filename"
   ]
  },
  {
   "cell_type": "code",
   "execution_count": null,
   "metadata": {
    "collapsed": false,
    "scrolled": false
   },
   "outputs": [],
   "source": []
  },
  {
   "cell_type": "code",
   "execution_count": 14,
   "metadata": {
    "collapsed": false
   },
   "outputs": [
    {
     "data": {
      "text/html": [
       "<div>\n",
       "<table border=\"1\" class=\"dataframe\">\n",
       "  <thead>\n",
       "    <tr style=\"text-align: right;\">\n",
       "      <th></th>\n",
       "      <th>Stations_id</th>\n",
       "      <th>Stationshoehe</th>\n",
       "      <th>Geogr.Breite</th>\n",
       "      <th>Geogr.Laenge</th>\n",
       "      <th>von_datum</th>\n",
       "      <th>bis_datum</th>\n",
       "      <th>Stationsname</th>\n",
       "      <th></th>\n",
       "    </tr>\n",
       "  </thead>\n",
       "  <tbody>\n",
       "    <tr>\n",
       "      <th>0</th>\n",
       "      <td>1048</td>\n",
       "      <td>152</td>\n",
       "      <td>51.0833</td>\n",
       "      <td>13.7667</td>\n",
       "      <td>19280101</td>\n",
       "      <td>19331231</td>\n",
       "      <td>Dresden-Klotzsche                             ...</td>\n",
       "      <td>NaN</td>\n",
       "    </tr>\n",
       "    <tr>\n",
       "      <th>1</th>\n",
       "      <td>1048</td>\n",
       "      <td>152</td>\n",
       "      <td>51.0983</td>\n",
       "      <td>13.7489</td>\n",
       "      <td>19340101</td>\n",
       "      <td>19350710</td>\n",
       "      <td>Dresden-Klotzsche                             ...</td>\n",
       "      <td>NaN</td>\n",
       "    </tr>\n",
       "    <tr>\n",
       "      <th>2</th>\n",
       "      <td>1048</td>\n",
       "      <td>229</td>\n",
       "      <td>51.1235</td>\n",
       "      <td>13.7640</td>\n",
       "      <td>19350711</td>\n",
       "      <td>19560419</td>\n",
       "      <td>Dresden-Klotzsche                             ...</td>\n",
       "      <td>NaN</td>\n",
       "    </tr>\n",
       "    <tr>\n",
       "      <th>3</th>\n",
       "      <td>1048</td>\n",
       "      <td>222</td>\n",
       "      <td>51.1330</td>\n",
       "      <td>13.7732</td>\n",
       "      <td>19560420</td>\n",
       "      <td>19900731</td>\n",
       "      <td>Dresden-Klotzsche                             ...</td>\n",
       "      <td>NaN</td>\n",
       "    </tr>\n",
       "    <tr>\n",
       "      <th>4</th>\n",
       "      <td>1048</td>\n",
       "      <td>222</td>\n",
       "      <td>51.1327</td>\n",
       "      <td>13.7721</td>\n",
       "      <td>19900801</td>\n",
       "      <td>19920731</td>\n",
       "      <td>Dresden-Klotzsche                             ...</td>\n",
       "      <td>NaN</td>\n",
       "    </tr>\n",
       "    <tr>\n",
       "      <th>5</th>\n",
       "      <td>1048</td>\n",
       "      <td>222</td>\n",
       "      <td>51.1327</td>\n",
       "      <td>13.7721</td>\n",
       "      <td>19920801</td>\n",
       "      <td>19950831</td>\n",
       "      <td>Dresden-Klotzsche                             ...</td>\n",
       "      <td>NaN</td>\n",
       "    </tr>\n",
       "    <tr>\n",
       "      <th>6</th>\n",
       "      <td>1048</td>\n",
       "      <td>227</td>\n",
       "      <td>51.1280</td>\n",
       "      <td>13.7543</td>\n",
       "      <td>19950901</td>\n",
       "      <td></td>\n",
       "      <td>Dresden-Klotzsche                             ...</td>\n",
       "      <td>NaN</td>\n",
       "    </tr>\n",
       "  </tbody>\n",
       "</table>\n",
       "</div>"
      ],
      "text/plain": [
       "   Stations_id   Stationshoehe   Geogr.Breite   Geogr.Laenge   von_datum  \\\n",
       "0         1048             152        51.0833        13.7667    19280101   \n",
       "1         1048             152        51.0983        13.7489    19340101   \n",
       "2         1048             229        51.1235        13.7640    19350711   \n",
       "3         1048             222        51.1330        13.7732    19560420   \n",
       "4         1048             222        51.1327        13.7721    19900801   \n",
       "5         1048             222        51.1327        13.7721    19920801   \n",
       "6         1048             227        51.1280        13.7543    19950901   \n",
       "\n",
       "   bis_datum                                       Stationsname  \\\n",
       "0   19331231  Dresden-Klotzsche                             ...   \n",
       "1   19350710  Dresden-Klotzsche                             ...   \n",
       "2   19560419  Dresden-Klotzsche                             ...   \n",
       "3   19900731  Dresden-Klotzsche                             ...   \n",
       "4   19920731  Dresden-Klotzsche                             ...   \n",
       "5   19950831  Dresden-Klotzsche                             ...   \n",
       "6             Dresden-Klotzsche                             ...   \n",
       "\n",
       "                                                                                                                  \n",
       "0                                                NaN                                                              \n",
       "1                                                NaN                                                              \n",
       "2                                                NaN                                                              \n",
       "3                                                NaN                                                              \n",
       "4                                                NaN                                                              \n",
       "5                                                NaN                                                              \n",
       "6                                                NaN                                                              "
      ]
     },
     "execution_count": 14,
     "metadata": {},
     "output_type": "execute_result"
    }
   ],
   "source": [
    "pd.read_csv(\"Stationsmetadaten_wind_stationen_01048_19730101_20151231.txt\",sep=\";\")"
   ]
  },
  {
   "cell_type": "code",
   "execution_count": 15,
   "metadata": {
    "collapsed": false
   },
   "outputs": [
    {
     "name": "stderr",
     "output_type": "stream",
     "text": [
      "/home/noel3/anaconda/lib/python2.7/site-packages/IPython/core/interactiveshell.py:2723: DtypeWarning: Columns (0) have mixed types. Specify dtype option on import or set low_memory=False.\n",
      "  interactivity=interactivity, compiler=compiler, result=result)\n"
     ]
    },
    {
     "data": {
      "text/html": [
       "<div>\n",
       "<table border=\"1\" class=\"dataframe\">\n",
       "  <thead>\n",
       "    <tr style=\"text-align: right;\">\n",
       "      <th></th>\n",
       "      <th>STATIONS_ID</th>\n",
       "      <th>MESS_DATUM</th>\n",
       "      <th>QUALITAETS_NIVEAU</th>\n",
       "      <th>STRUKTUR_VERSION</th>\n",
       "      <th>WINDGESCHWINDIGKEIT</th>\n",
       "      <th>WINDRICHTUNG</th>\n",
       "      <th>eor</th>\n",
       "    </tr>\n",
       "  </thead>\n",
       "  <tbody>\n",
       "    <tr>\n",
       "      <th>372283</th>\n",
       "      <td>1048</td>\n",
       "      <td>2.015123e+09</td>\n",
       "      <td>7.0</td>\n",
       "      <td>61.0</td>\n",
       "      <td>5.0</td>\n",
       "      <td>160.0</td>\n",
       "      <td>eor</td>\n",
       "    </tr>\n",
       "    <tr>\n",
       "      <th>372284</th>\n",
       "      <td>1048</td>\n",
       "      <td>2.015123e+09</td>\n",
       "      <td>7.0</td>\n",
       "      <td>61.0</td>\n",
       "      <td>4.5</td>\n",
       "      <td>170.0</td>\n",
       "      <td>eor</td>\n",
       "    </tr>\n",
       "    <tr>\n",
       "      <th>372285</th>\n",
       "      <td>1048</td>\n",
       "      <td>2.015123e+09</td>\n",
       "      <td>7.0</td>\n",
       "      <td>61.0</td>\n",
       "      <td>2.7</td>\n",
       "      <td>160.0</td>\n",
       "      <td>eor</td>\n",
       "    </tr>\n",
       "    <tr>\n",
       "      <th>372286</th>\n",
       "      <td>1048</td>\n",
       "      <td>2.015123e+09</td>\n",
       "      <td>7.0</td>\n",
       "      <td>61.0</td>\n",
       "      <td>3.1</td>\n",
       "      <td>180.0</td>\n",
       "      <td>eor</td>\n",
       "    </tr>\n",
       "    <tr>\n",
       "      <th>372287</th>\n",
       "      <td>\u001a</td>\n",
       "      <td>NaN</td>\n",
       "      <td>NaN</td>\n",
       "      <td>NaN</td>\n",
       "      <td>NaN</td>\n",
       "      <td>NaN</td>\n",
       "      <td>NaN</td>\n",
       "    </tr>\n",
       "  </tbody>\n",
       "</table>\n",
       "</div>"
      ],
      "text/plain": [
       "       STATIONS_ID    MESS_DATUM   QUALITAETS_NIVEAU   STRUKTUR_VERSION  \\\n",
       "372283        1048  2.015123e+09                 7.0               61.0   \n",
       "372284        1048  2.015123e+09                 7.0               61.0   \n",
       "372285        1048  2.015123e+09                 7.0               61.0   \n",
       "372286        1048  2.015123e+09                 7.0               61.0   \n",
       "372287           \u001a           NaN                 NaN                NaN   \n",
       "\n",
       "         WINDGESCHWINDIGKEIT  WINDRICHTUNG  eor  \n",
       "372283                   5.0         160.0  eor  \n",
       "372284                   4.5         170.0  eor  \n",
       "372285                   2.7         160.0  eor  \n",
       "372286                   3.1         180.0  eor  \n",
       "372287                   NaN           NaN  NaN  "
      ]
     },
     "execution_count": 15,
     "metadata": {},
     "output_type": "execute_result"
    }
   ],
   "source": [
    "dwd_wind=pd.read_csv(\"produkt_wind_Terminwerte_19730101_20151231_01048.txt\",sep=\";\")\n",
    "dwd_wind.tail()"
   ]
  },
  {
   "cell_type": "code",
   "execution_count": 16,
   "metadata": {
    "collapsed": false
   },
   "outputs": [],
   "source": [
    "dwd_wind.columns=dwd_wind.columns.str.strip()"
   ]
  },
  {
   "cell_type": "code",
   "execution_count": 17,
   "metadata": {
    "collapsed": false
   },
   "outputs": [
    {
     "data": {
      "text/html": [
       "<div>\n",
       "<table border=\"1\" class=\"dataframe\">\n",
       "  <thead>\n",
       "    <tr style=\"text-align: right;\">\n",
       "      <th></th>\n",
       "      <th>STATIONS_ID</th>\n",
       "      <th>MESS_DATUM</th>\n",
       "      <th>QUALITAETS_NIVEAU</th>\n",
       "      <th>STRUKTUR_VERSION</th>\n",
       "      <th>WINDGESCHWINDIGKEIT</th>\n",
       "      <th>WINDRICHTUNG</th>\n",
       "      <th>eor</th>\n",
       "    </tr>\n",
       "    <tr>\n",
       "      <th>MESS_DATUM</th>\n",
       "      <th></th>\n",
       "      <th></th>\n",
       "      <th></th>\n",
       "      <th></th>\n",
       "      <th></th>\n",
       "      <th></th>\n",
       "      <th></th>\n",
       "    </tr>\n",
       "  </thead>\n",
       "  <tbody>\n",
       "    <tr>\n",
       "      <th>2015-12-31 19:00:00</th>\n",
       "      <td>1048</td>\n",
       "      <td>2.015123e+09</td>\n",
       "      <td>7.0</td>\n",
       "      <td>61.0</td>\n",
       "      <td>5.6</td>\n",
       "      <td>160.0</td>\n",
       "      <td>eor</td>\n",
       "    </tr>\n",
       "    <tr>\n",
       "      <th>2015-12-31 20:00:00</th>\n",
       "      <td>1048</td>\n",
       "      <td>2.015123e+09</td>\n",
       "      <td>7.0</td>\n",
       "      <td>61.0</td>\n",
       "      <td>5.0</td>\n",
       "      <td>160.0</td>\n",
       "      <td>eor</td>\n",
       "    </tr>\n",
       "    <tr>\n",
       "      <th>2015-12-31 21:00:00</th>\n",
       "      <td>1048</td>\n",
       "      <td>2.015123e+09</td>\n",
       "      <td>7.0</td>\n",
       "      <td>61.0</td>\n",
       "      <td>4.5</td>\n",
       "      <td>170.0</td>\n",
       "      <td>eor</td>\n",
       "    </tr>\n",
       "    <tr>\n",
       "      <th>2015-12-31 22:00:00</th>\n",
       "      <td>1048</td>\n",
       "      <td>2.015123e+09</td>\n",
       "      <td>7.0</td>\n",
       "      <td>61.0</td>\n",
       "      <td>2.7</td>\n",
       "      <td>160.0</td>\n",
       "      <td>eor</td>\n",
       "    </tr>\n",
       "    <tr>\n",
       "      <th>2015-12-31 23:00:00</th>\n",
       "      <td>1048</td>\n",
       "      <td>2.015123e+09</td>\n",
       "      <td>7.0</td>\n",
       "      <td>61.0</td>\n",
       "      <td>3.1</td>\n",
       "      <td>180.0</td>\n",
       "      <td>eor</td>\n",
       "    </tr>\n",
       "  </tbody>\n",
       "</table>\n",
       "</div>"
      ],
      "text/plain": [
       "                    STATIONS_ID    MESS_DATUM  QUALITAETS_NIVEAU  \\\n",
       "MESS_DATUM                                                         \n",
       "2015-12-31 19:00:00        1048  2.015123e+09                7.0   \n",
       "2015-12-31 20:00:00        1048  2.015123e+09                7.0   \n",
       "2015-12-31 21:00:00        1048  2.015123e+09                7.0   \n",
       "2015-12-31 22:00:00        1048  2.015123e+09                7.0   \n",
       "2015-12-31 23:00:00        1048  2.015123e+09                7.0   \n",
       "\n",
       "                     STRUKTUR_VERSION  WINDGESCHWINDIGKEIT  WINDRICHTUNG  eor  \n",
       "MESS_DATUM                                                                     \n",
       "2015-12-31 19:00:00              61.0                  5.6         160.0  eor  \n",
       "2015-12-31 20:00:00              61.0                  5.0         160.0  eor  \n",
       "2015-12-31 21:00:00              61.0                  4.5         170.0  eor  \n",
       "2015-12-31 22:00:00              61.0                  2.7         160.0  eor  \n",
       "2015-12-31 23:00:00              61.0                  3.1         180.0  eor  "
      ]
     },
     "execution_count": 17,
     "metadata": {},
     "output_type": "execute_result"
    }
   ],
   "source": [
    "dwd_wind = dwd_wind[np.isfinite(dwd_wind['MESS_DATUM'])]\n",
    "dwd_wind.index=pd.to_datetime(dwd_wind.MESS_DATUM.astype(int), format='%Y%m%d%H')\n",
    "dwd_wind[dwd_wind.WINDGESCHWINDIGKEIT==-999] =np.NaN\n",
    "\n",
    "dwd_wind.tail()"
   ]
  },
  {
   "cell_type": "code",
   "execution_count": 18,
   "metadata": {
    "collapsed": false
   },
   "outputs": [
    {
     "data": {
      "text/plain": [
       "<matplotlib.axes._subplots.AxesSubplot at 0x7f9520540fd0>"
      ]
     },
     "execution_count": 18,
     "metadata": {},
     "output_type": "execute_result"
    },
    {
     "data": {
      "image/png": "[encoded data removed]",
      "text/plain": [
       "<matplotlib.figure.Figure at 0x7f94f8a10950>"
      ]
     },
     "metadata": {},
     "output_type": "display_data"
    }
   ],
   "source": [
    "dwd_wind[-10000:].WINDGESCHWINDIGKEIT.plot()"
   ]
  },
  {
   "cell_type": "code",
   "execution_count": 19,
   "metadata": {
    "collapsed": false
   },
   "outputs": [
    {
     "data": {
      "text/plain": [
       "<matplotlib.axes._subplots.AxesSubplot at 0x7f94f399eed0>"
      ]
     },
     "execution_count": 19,
     "metadata": {},
     "output_type": "execute_result"
    },
    {
     "data": {
      "image/png": "[encoded data removed]",
      "text/plain": [
       "<matplotlib.figure.Figure at 0x7f94f39b3f90>"
      ]
     },
     "metadata": {},
     "output_type": "display_data"
    }
   ],
   "source": [
    "g=dwd_wind.groupby(dwd_wind.index.year)\n",
    "g.mean()\n",
    "g.WINDGESCHWINDIGKEIT.mean().plot(ylim=(3,5))"
   ]
  },
  {
   "cell_type": "code",
   "execution_count": 20,
   "metadata": {
    "collapsed": false
   },
   "outputs": [
    {
     "data": {
      "text/plain": [
       "(3.826014789453165, '+-', 0.5825790445386781)"
      ]
     },
     "execution_count": 20,
     "metadata": {},
     "output_type": "execute_result"
    }
   ],
   "source": [
    "g.WINDGESCHWINDIGKEIT.mean().mean(),\"+-\",g.WINDGESCHWINDIGKEIT.mean().std()"
   ]
  },
  {
   "cell_type": "code",
   "execution_count": 21,
   "metadata": {
    "collapsed": false
   },
   "outputs": [],
   "source": [
    "#(g.WINDGESCHWINDIGKEIT.mean()[0:10].mean()/g.WINDGESCHWINDIGKEIT.mean()[-10:].mean())**3\n",
    "##23% weniger Windenergie"
   ]
  },
  {
   "cell_type": "code",
   "execution_count": 22,
   "metadata": {
    "collapsed": false
   },
   "outputs": [
    {
     "data": {
      "text/plain": [
       "[<matplotlib.lines.Line2D at 0x7f94f37e9bd0>]"
      ]
     },
     "execution_count": 22,
     "metadata": {},
     "output_type": "execute_result"
    },
    {
     "data": {
      "image/png": "[encoded data removed]",
      "text/plain": [
       "<matplotlib.figure.Figure at 0x7f94f3898f50>"
      ]
     },
     "metadata": {},
     "output_type": "display_data"
    }
   ],
   "source": [
    "fig=plt.figure(figsize=(15,5))\n",
    "plt.plot(g.WINDGESCHWINDIGKEIT.mean()**3)"
   ]
  },
  {
   "cell_type": "code",
   "execution_count": 23,
   "metadata": {
    "collapsed": false
   },
   "outputs": [
    {
     "data": {
      "text/plain": [
       "<matplotlib.axes._subplots.AxesSubplot at 0x7f94f3860e10>"
      ]
     },
     "execution_count": 23,
     "metadata": {},
     "output_type": "execute_result"
    },
    {
     "data": {
      "image/png": "[encoded data removed]",
      "text/plain": [
       "<matplotlib.figure.Figure at 0x7f94f378c1d0>"
      ]
     },
     "metadata": {},
     "output_type": "display_data"
    }
   ],
   "source": [
    "dwd_wind.WINDGESCHWINDIGKEIT[-240:].plot()"
   ]
  },
  {
   "cell_type": "code",
   "execution_count": 24,
   "metadata": {
    "collapsed": false
   },
   "outputs": [
    {
     "name": "stdout",
     "output_type": "stream",
     "text": [
      "--2016-11-06 18:21:18--  ftp://ftp-cdc.dwd.de/pub/CDC/observations_germany/climate/hourly/wind/recent/stundenwerte_FF_01048_akt.zip\n",
      "           => »stundenwerte_FF_01048_akt.zip«\n",
      "Auflösen des Hostnamen »ftp-cdc.dwd.de (ftp-cdc.dwd.de)«... 141.38.3.177\n",
      "Verbindungsaufbau zu ftp-cdc.dwd.de (ftp-cdc.dwd.de)|141.38.3.177|:21... verbunden.\n",
      "Anmelden als anonymous ... Angemeldet!\n",
      "==> SYST ... fertig.    ==> PWD ... fertig.\n",
      "==> TYPE I ... fertig.  ==> CWD (1) /pub/CDC/observations_germany/climate/hourly/wind/recent ... fertig.\n",
      "==> SIZE stundenwerte_FF_01048_akt.zip ... 67023\n",
      "==> PASV ... fertig.    ==> RETR stundenwerte_FF_01048_akt.zip ... fertig.\n",
      "Länge: 67023 (65K) (unmaßgeblich)\n",
      "\n",
      "100%[======================================>] 67.023       308KB/s   in 0,2s   \n",
      "\n",
      "2016-11-06 18:21:19 (308 KB/s) - »stundenwerte_FF_01048_akt.zip« gespeichert [67023]\n",
      "\n"
     ]
    }
   ],
   "source": [
    "filename=\"stundenwerte_FF_01048_akt.zip\" \n",
    "!wget \"ftp://ftp-cdc.dwd.de/pub/CDC/observations_germany/climate/hourly/wind/recent/$filename\""
   ]
  },
  {
   "cell_type": "code",
   "execution_count": 25,
   "metadata": {
    "collapsed": false
   },
   "outputs": [
    {
     "name": "stdout",
     "output_type": "stream",
     "text": [
      "Archive:  stundenwerte_FF_01048_akt.zip\r\n",
      "  inflating: Beschreibung_wind_Element_Detail_01048.html  \r\n",
      "  inflating: Beschreibung_wind_Geraete_Detail_01048.html  \r\n",
      "  inflating: produkt_wind_Terminwerte_20150506_20161105_01048.txt  \r\n",
      "  inflating: Stationsmetadaten_wind_stationen_01048_20150506_20161105.txt  \r\n"
     ]
    }
   ],
   "source": [
    "!rm *_01048*.html\n",
    "!unzip $filename"
   ]
  },
  {
   "cell_type": "code",
   "execution_count": 26,
   "metadata": {
    "collapsed": false
   },
   "outputs": [
    {
     "data": {
      "text/html": [
       "<div>\n",
       "<table border=\"1\" class=\"dataframe\">\n",
       "  <thead>\n",
       "    <tr style=\"text-align: right;\">\n",
       "      <th></th>\n",
       "      <th>Stations_id</th>\n",
       "      <th>Stationshoehe</th>\n",
       "      <th>Geogr.Breite</th>\n",
       "      <th>Geogr.Laenge</th>\n",
       "      <th>von_datum</th>\n",
       "      <th>bis_datum</th>\n",
       "      <th>Stationsname</th>\n",
       "      <th></th>\n",
       "    </tr>\n",
       "  </thead>\n",
       "  <tbody>\n",
       "    <tr>\n",
       "      <th>0</th>\n",
       "      <td>1048</td>\n",
       "      <td>152</td>\n",
       "      <td>51.0833</td>\n",
       "      <td>13.7667</td>\n",
       "      <td>19280101</td>\n",
       "      <td>19331231</td>\n",
       "      <td>Dresden-Klotzsche                             ...</td>\n",
       "      <td>NaN</td>\n",
       "    </tr>\n",
       "    <tr>\n",
       "      <th>1</th>\n",
       "      <td>1048</td>\n",
       "      <td>152</td>\n",
       "      <td>51.0983</td>\n",
       "      <td>13.7489</td>\n",
       "      <td>19340101</td>\n",
       "      <td>19350710</td>\n",
       "      <td>Dresden-Klotzsche                             ...</td>\n",
       "      <td>NaN</td>\n",
       "    </tr>\n",
       "    <tr>\n",
       "      <th>2</th>\n",
       "      <td>1048</td>\n",
       "      <td>229</td>\n",
       "      <td>51.1235</td>\n",
       "      <td>13.7640</td>\n",
       "      <td>19350711</td>\n",
       "      <td>19560419</td>\n",
       "      <td>Dresden-Klotzsche                             ...</td>\n",
       "      <td>NaN</td>\n",
       "    </tr>\n",
       "    <tr>\n",
       "      <th>3</th>\n",
       "      <td>1048</td>\n",
       "      <td>222</td>\n",
       "      <td>51.1330</td>\n",
       "      <td>13.7732</td>\n",
       "      <td>19560420</td>\n",
       "      <td>19900731</td>\n",
       "      <td>Dresden-Klotzsche                             ...</td>\n",
       "      <td>NaN</td>\n",
       "    </tr>\n",
       "    <tr>\n",
       "      <th>4</th>\n",
       "      <td>1048</td>\n",
       "      <td>222</td>\n",
       "      <td>51.1327</td>\n",
       "      <td>13.7721</td>\n",
       "      <td>19900801</td>\n",
       "      <td>19920731</td>\n",
       "      <td>Dresden-Klotzsche                             ...</td>\n",
       "      <td>NaN</td>\n",
       "    </tr>\n",
       "    <tr>\n",
       "      <th>5</th>\n",
       "      <td>1048</td>\n",
       "      <td>222</td>\n",
       "      <td>51.1327</td>\n",
       "      <td>13.7721</td>\n",
       "      <td>19920801</td>\n",
       "      <td>19950831</td>\n",
       "      <td>Dresden-Klotzsche                             ...</td>\n",
       "      <td>NaN</td>\n",
       "    </tr>\n",
       "    <tr>\n",
       "      <th>6</th>\n",
       "      <td>1048</td>\n",
       "      <td>227</td>\n",
       "      <td>51.1280</td>\n",
       "      <td>13.7543</td>\n",
       "      <td>19950901</td>\n",
       "      <td></td>\n",
       "      <td>Dresden-Klotzsche                             ...</td>\n",
       "      <td>NaN</td>\n",
       "    </tr>\n",
       "  </tbody>\n",
       "</table>\n",
       "</div>"
      ],
      "text/plain": [
       "   Stations_id   Stationshoehe   Geogr.Breite   Geogr.Laenge   von_datum  \\\n",
       "0         1048             152        51.0833        13.7667    19280101   \n",
       "1         1048             152        51.0983        13.7489    19340101   \n",
       "2         1048             229        51.1235        13.7640    19350711   \n",
       "3         1048             222        51.1330        13.7732    19560420   \n",
       "4         1048             222        51.1327        13.7721    19900801   \n",
       "5         1048             222        51.1327        13.7721    19920801   \n",
       "6         1048             227        51.1280        13.7543    19950901   \n",
       "\n",
       "   bis_datum                                       Stationsname  \\\n",
       "0   19331231  Dresden-Klotzsche                             ...   \n",
       "1   19350710  Dresden-Klotzsche                             ...   \n",
       "2   19560419  Dresden-Klotzsche                             ...   \n",
       "3   19900731  Dresden-Klotzsche                             ...   \n",
       "4   19920731  Dresden-Klotzsche                             ...   \n",
       "5   19950831  Dresden-Klotzsche                             ...   \n",
       "6             Dresden-Klotzsche                             ...   \n",
       "\n",
       "                                                                                                                  \n",
       "0                                                NaN                                                              \n",
       "1                                                NaN                                                              \n",
       "2                                                NaN                                                              \n",
       "3                                                NaN                                                              \n",
       "4                                                NaN                                                              \n",
       "5                                                NaN                                                              \n",
       "6                                                NaN                                                              "
      ]
     },
     "execution_count": 26,
     "metadata": {},
     "output_type": "execute_result"
    }
   ],
   "source": [
    "pd.read_csv(\"Stationsmetadaten_wind_stationen_01048_20150506_20161105.txt\",sep=\";\")"
   ]
  },
  {
   "cell_type": "code",
   "execution_count": 27,
   "metadata": {
    "collapsed": false
   },
   "outputs": [
    {
     "data": {
      "text/html": [
       "<div>\n",
       "<table border=\"1\" class=\"dataframe\">\n",
       "  <thead>\n",
       "    <tr style=\"text-align: right;\">\n",
       "      <th></th>\n",
       "      <th>STATIONS_ID</th>\n",
       "      <th>MESS_DATUM</th>\n",
       "      <th>QUALITAETS_NIVEAU</th>\n",
       "      <th>STRUKTUR_VERSION</th>\n",
       "      <th>WINDGESCHWINDIGKEIT</th>\n",
       "      <th>WINDRICHTUNG</th>\n",
       "      <th>eor</th>\n",
       "    </tr>\n",
       "  </thead>\n",
       "  <tbody>\n",
       "    <tr>\n",
       "      <th>0</th>\n",
       "      <td>1048</td>\n",
       "      <td>2015050600</td>\n",
       "      <td>10</td>\n",
       "      <td>61</td>\n",
       "      <td>3.1</td>\n",
       "      <td>330</td>\n",
       "      <td>eor</td>\n",
       "    </tr>\n",
       "    <tr>\n",
       "      <th>1</th>\n",
       "      <td>1048</td>\n",
       "      <td>2015050601</td>\n",
       "      <td>10</td>\n",
       "      <td>61</td>\n",
       "      <td>2.5</td>\n",
       "      <td>300</td>\n",
       "      <td>eor</td>\n",
       "    </tr>\n",
       "    <tr>\n",
       "      <th>2</th>\n",
       "      <td>1048</td>\n",
       "      <td>2015050602</td>\n",
       "      <td>10</td>\n",
       "      <td>61</td>\n",
       "      <td>2.1</td>\n",
       "      <td>270</td>\n",
       "      <td>eor</td>\n",
       "    </tr>\n",
       "    <tr>\n",
       "      <th>3</th>\n",
       "      <td>1048</td>\n",
       "      <td>2015050603</td>\n",
       "      <td>10</td>\n",
       "      <td>61</td>\n",
       "      <td>1.8</td>\n",
       "      <td>280</td>\n",
       "      <td>eor</td>\n",
       "    </tr>\n",
       "    <tr>\n",
       "      <th>4</th>\n",
       "      <td>1048</td>\n",
       "      <td>2015050604</td>\n",
       "      <td>10</td>\n",
       "      <td>61</td>\n",
       "      <td>1.1</td>\n",
       "      <td>290</td>\n",
       "      <td>eor</td>\n",
       "    </tr>\n",
       "  </tbody>\n",
       "</table>\n",
       "</div>"
      ],
      "text/plain": [
       "   STATIONS_ID   MESS_DATUM   QUALITAETS_NIVEAU   STRUKTUR_VERSION  \\\n",
       "0         1048   2015050600                  10                 61   \n",
       "1         1048   2015050601                  10                 61   \n",
       "2         1048   2015050602                  10                 61   \n",
       "3         1048   2015050603                  10                 61   \n",
       "4         1048   2015050604                  10                 61   \n",
       "\n",
       "    WINDGESCHWINDIGKEIT  WINDRICHTUNG  eor  \n",
       "0                   3.1           330  eor  \n",
       "1                   2.5           300  eor  \n",
       "2                   2.1           270  eor  \n",
       "3                   1.8           280  eor  \n",
       "4                   1.1           290  eor  "
      ]
     },
     "execution_count": 27,
     "metadata": {},
     "output_type": "execute_result"
    }
   ],
   "source": [
    "akt_wind=pd.read_csv(\"produkt_wind_Terminwerte_20150506_20161105_01048.txt\",sep=\";\")\n",
    "akt_wind.head()"
   ]
  },
  {
   "cell_type": "code",
   "execution_count": 28,
   "metadata": {
    "collapsed": false
   },
   "outputs": [
    {
     "data": {
      "text/html": [
       "<div>\n",
       "<table border=\"1\" class=\"dataframe\">\n",
       "  <thead>\n",
       "    <tr style=\"text-align: right;\">\n",
       "      <th></th>\n",
       "      <th>STATIONS_ID</th>\n",
       "      <th>MESS_DATUM</th>\n",
       "      <th>QUALITAETS_NIVEAU</th>\n",
       "      <th>STRUKTUR_VERSION</th>\n",
       "      <th>WINDGESCHWINDIGKEIT</th>\n",
       "      <th>WINDRICHTUNG</th>\n",
       "      <th>eor</th>\n",
       "    </tr>\n",
       "    <tr>\n",
       "      <th>MESS_DATUM</th>\n",
       "      <th></th>\n",
       "      <th></th>\n",
       "      <th></th>\n",
       "      <th></th>\n",
       "      <th></th>\n",
       "      <th></th>\n",
       "      <th></th>\n",
       "    </tr>\n",
       "  </thead>\n",
       "  <tbody>\n",
       "    <tr>\n",
       "      <th>2016-11-05 19:00:00</th>\n",
       "      <td>1048.0</td>\n",
       "      <td>2.016111e+09</td>\n",
       "      <td>1.0</td>\n",
       "      <td>61.0</td>\n",
       "      <td>1.9</td>\n",
       "      <td>210.0</td>\n",
       "      <td>eor</td>\n",
       "    </tr>\n",
       "    <tr>\n",
       "      <th>2016-11-05 20:00:00</th>\n",
       "      <td>1048.0</td>\n",
       "      <td>2.016111e+09</td>\n",
       "      <td>1.0</td>\n",
       "      <td>61.0</td>\n",
       "      <td>2.1</td>\n",
       "      <td>200.0</td>\n",
       "      <td>eor</td>\n",
       "    </tr>\n",
       "    <tr>\n",
       "      <th>2016-11-05 21:00:00</th>\n",
       "      <td>1048.0</td>\n",
       "      <td>2.016111e+09</td>\n",
       "      <td>1.0</td>\n",
       "      <td>61.0</td>\n",
       "      <td>2.5</td>\n",
       "      <td>190.0</td>\n",
       "      <td>eor</td>\n",
       "    </tr>\n",
       "    <tr>\n",
       "      <th>2016-11-05 22:00:00</th>\n",
       "      <td>1048.0</td>\n",
       "      <td>2.016111e+09</td>\n",
       "      <td>1.0</td>\n",
       "      <td>61.0</td>\n",
       "      <td>2.7</td>\n",
       "      <td>230.0</td>\n",
       "      <td>eor</td>\n",
       "    </tr>\n",
       "    <tr>\n",
       "      <th>2016-11-05 23:00:00</th>\n",
       "      <td>1048.0</td>\n",
       "      <td>2.016111e+09</td>\n",
       "      <td>1.0</td>\n",
       "      <td>61.0</td>\n",
       "      <td>2.9</td>\n",
       "      <td>240.0</td>\n",
       "      <td>eor</td>\n",
       "    </tr>\n",
       "  </tbody>\n",
       "</table>\n",
       "</div>"
      ],
      "text/plain": [
       "                     STATIONS_ID    MESS_DATUM  QUALITAETS_NIVEAU  \\\n",
       "MESS_DATUM                                                          \n",
       "2016-11-05 19:00:00       1048.0  2.016111e+09                1.0   \n",
       "2016-11-05 20:00:00       1048.0  2.016111e+09                1.0   \n",
       "2016-11-05 21:00:00       1048.0  2.016111e+09                1.0   \n",
       "2016-11-05 22:00:00       1048.0  2.016111e+09                1.0   \n",
       "2016-11-05 23:00:00       1048.0  2.016111e+09                1.0   \n",
       "\n",
       "                     STRUKTUR_VERSION  WINDGESCHWINDIGKEIT  WINDRICHTUNG  eor  \n",
       "MESS_DATUM                                                                     \n",
       "2016-11-05 19:00:00              61.0                  1.9         210.0  eor  \n",
       "2016-11-05 20:00:00              61.0                  2.1         200.0  eor  \n",
       "2016-11-05 21:00:00              61.0                  2.5         190.0  eor  \n",
       "2016-11-05 22:00:00              61.0                  2.7         230.0  eor  \n",
       "2016-11-05 23:00:00              61.0                  2.9         240.0  eor  "
      ]
     },
     "execution_count": 28,
     "metadata": {},
     "output_type": "execute_result"
    }
   ],
   "source": [
    "akt_wind.columns=akt_wind.columns.str.strip()\n",
    "akt_wind = akt_wind[np.isfinite(akt_wind['MESS_DATUM'])]\n",
    "akt_wind.index=pd.to_datetime(akt_wind.MESS_DATUM.astype(int), format='%Y%m%d%H')\n",
    "akt_wind[akt_wind.WINDGESCHWINDIGKEIT==-999] =np.NaN\n",
    "\n",
    "akt_wind.tail()"
   ]
  },
  {
   "cell_type": "code",
   "execution_count": 29,
   "metadata": {
    "collapsed": false
   },
   "outputs": [
    {
     "data": {
      "text/plain": [
       "<matplotlib.axes._subplots.AxesSubplot at 0x7f94f37f6c10>"
      ]
     },
     "execution_count": 29,
     "metadata": {},
     "output_type": "execute_result"
    },
    {
     "data": {
      "image/png": "[encoded data removed]",
      "text/plain": [
       "<matplotlib.figure.Figure at 0x7f94f3741290>"
      ]
     },
     "metadata": {},
     "output_type": "display_data"
    }
   ],
   "source": [
    "akt_wind.WINDGESCHWINDIGKEIT.plot()"
   ]
  },
  {
   "cell_type": "code",
   "execution_count": 30,
   "metadata": {
    "collapsed": false
   },
   "outputs": [
    {
     "data": {
      "text/plain": [
       "STATIONS_ID            1.048000e+03\n",
       "MESS_DATUM             2.015634e+09\n",
       "QUALITAETS_NIVEAU      7.056441e+00\n",
       "STRUKTUR_VERSION       6.100000e+01\n",
       "WINDGESCHWINDIGKEIT    3.901335e+00\n",
       "WINDRICHTUNG           2.031240e+02\n",
       "dtype: float64"
      ]
     },
     "execution_count": 30,
     "metadata": {},
     "output_type": "execute_result"
    }
   ],
   "source": [
    "akt_wind.mean()"
   ]
  },
  {
   "cell_type": "code",
   "execution_count": 31,
   "metadata": {
    "collapsed": false
   },
   "outputs": [
    {
     "data": {
      "text/plain": [
       "MESS_DATUM             1.994071e+09\n",
       "QUALITAETS_NIVEAU      8.488097e+00\n",
       "STRUKTUR_VERSION       3.363068e+01\n",
       "WINDGESCHWINDIGKEIT    3.816762e+00\n",
       "WINDRICHTUNG           1.988530e+02\n",
       "dtype: float64"
      ]
     },
     "execution_count": 31,
     "metadata": {},
     "output_type": "execute_result"
    }
   ],
   "source": [
    "dwd_wind.mean()"
   ]
  },
  {
   "cell_type": "code",
   "execution_count": 32,
   "metadata": {
    "collapsed": false
   },
   "outputs": [
    {
     "data": {
      "text/plain": [
       "3.8167615834261168"
      ]
     },
     "execution_count": 32,
     "metadata": {},
     "output_type": "execute_result"
    }
   ],
   "source": [
    "hist_mean=dwd_wind.mean().WINDGESCHWINDIGKEIT \n",
    "hist_mean"
   ]
  },
  {
   "cell_type": "code",
   "execution_count": 33,
   "metadata": {
    "collapsed": false
   },
   "outputs": [
    {
     "data": {
      "text/plain": [
       "4.0182751540041268"
      ]
     },
     "execution_count": 33,
     "metadata": {},
     "output_type": "execute_result"
    }
   ],
   "source": [
    "akt_mean=akt_wind['2015-11-06':'2016-11-06'].mean().WINDGESCHWINDIGKEIT \n",
    "akt_mean"
   ]
  },
  {
   "cell_type": "code",
   "execution_count": 34,
   "metadata": {
    "collapsed": false
   },
   "outputs": [
    {
     "data": {
      "text/plain": [
       "0.85697091164278472"
      ]
     },
     "execution_count": 34,
     "metadata": {},
     "output_type": "execute_result"
    }
   ],
   "source": [
    "(hist_mean/akt_mean)**3"
   ]
  },
  {
   "cell_type": "code",
   "execution_count": null,
   "metadata": {
    "collapsed": false
   },
   "outputs": [],
   "source": []
  },
  {
   "cell_type": "code",
   "execution_count": 35,
   "metadata": {
    "collapsed": false
   },
   "outputs": [
    {
     "data": {
      "text/plain": [
       "4.0316947063253998"
      ]
     },
     "execution_count": 35,
     "metadata": {},
     "output_type": "execute_result"
    }
   ],
   "source": [
    "hist10_mean=dwd_wind['2005-11-06':'2015-11-06'].mean().WINDGESCHWINDIGKEIT\n",
    "hist10_mean"
   ]
  },
  {
   "cell_type": "code",
   "execution_count": 36,
   "metadata": {
    "collapsed": false
   },
   "outputs": [
    {
     "data": {
      "text/plain": [
       "1.0100523866845719"
      ]
     },
     "execution_count": 36,
     "metadata": {},
     "output_type": "execute_result"
    }
   ],
   "source": [
    "(hist10_mean/akt_mean)**3"
   ]
  },
  {
   "cell_type": "code",
   "execution_count": 37,
   "metadata": {
    "collapsed": false
   },
   "outputs": [
    {
     "name": "stderr",
     "output_type": "stream",
     "text": [
      "/home/noel3/anaconda/lib/python2.7/site-packages/ipykernel/__main__.py:3: UserWarning: Boolean Series key will be reindexed to match DataFrame index.\n",
      "  app.launch_new_instance()\n"
     ]
    },
    {
     "data": {
      "image/png": "[encoded data removed]",
      "text/plain": [
       "<matplotlib.figure.Figure at 0x7f94f3537f10>"
      ]
     },
     "metadata": {},
     "output_type": "display_data"
    }
   ],
   "source": [
    "fig=plt.figure(figsize=(12,8))\n",
    "plt.hist(akt_wind[akt_wind.WINDGESCHWINDIGKEIT<15].WINDGESCHWINDIGKEIT.dropna().values,normed=True, bins=20);\n",
    "plt.hist(dwd_wind['2005-11-06':'2015-11-06'][dwd_wind.WINDGESCHWINDIGKEIT<15].WINDGESCHWINDIGKEIT.dropna().values,normed=True, bins=20, alpha=.5);"
   ]
  },
  {
   "cell_type": "code",
   "execution_count": 38,
   "metadata": {
    "collapsed": false
   },
   "outputs": [],
   "source": [
    "hist10_p=dwd_wind['2005-11-06':'2015-11-06'].WINDGESCHWINDIGKEIT.pow(3)\n",
    "hist10_p[hist10_p>1000]\n",
    "akt_p=akt_wind['2015-11-06':'2016-11-06'].WINDGESCHWINDIGKEIT.pow(3) "
   ]
  },
  {
   "cell_type": "code",
   "execution_count": 39,
   "metadata": {
    "collapsed": false
   },
   "outputs": [
    {
     "data": {
      "text/plain": [
       "(124.49697750361425, 121.2165174538014, 1.0270628138699258)"
      ]
     },
     "execution_count": 39,
     "metadata": {},
     "output_type": "execute_result"
    }
   ],
   "source": [
    "hist10_p.mean(),akt_p.mean(),hist10_p.mean()/akt_p.mean()\n",
    "#13% Weniger Windenergie im letzten Jahr"
   ]
  },
  {
   "cell_type": "code",
   "execution_count": null,
   "metadata": {
    "collapsed": false
   },
   "outputs": [],
   "source": []
  },
  {
   "cell_type": "code",
   "execution_count": null,
   "metadata": {
    "collapsed": true
   },
   "outputs": [],
   "source": []
  }
 ],
 "metadata": {
  "kernelspec": {
   "display_name": "Python 2",
   "language": "python",
   "name": "python2"
  },
  "language_info": {
   "codemirror_mode": {
    "name": "ipython",
    "version": 2
   },
   "file_extension": ".py",
   "mimetype": "text/x-python",
   "name": "python",
   "nbconvert_exporter": "python",
   "pygments_lexer": "ipython2",
   "version": "2.7.11"
  }
 },
 "nbformat": 4,
 "nbformat_minor": 0
}
