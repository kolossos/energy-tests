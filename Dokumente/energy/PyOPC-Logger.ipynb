{
 "cells": [
  {
   "cell_type": "code",
   "execution_count": 52,
   "metadata": {
    "collapsed": false
   },
   "outputs": [],
   "source": [
    "#!/usr/bin/env python\n",
    "%matplotlib inline\n",
    "\n",
    "from PyOPC.OPCContainers import *\n",
    "from PyOPC.XDAClient import XDAClient\n",
    "\n",
    "import time\n",
    "import pandas as pd\n",
    "import numpy as np\n",
    "import matplotlib.pyplot as plt\n",
    "\n",
    "from sqlalchemy import create_engine # database connection\n",
    "import datetime as dt\n",
    "from IPython.display import display\n",
    "from IPython.display import clear_output\n",
    "\n",
    "import plotly.plotly as py # interactive graphing\n",
    "from plotly.graph_objs import Bar, Scatter, Marker, Layout \n",
    "\n",
    "#http://pyopc.sourceforge.net/\n",
    "#https://plot.ly/python/big-data-analytics-with-pandas-and-sqlite/"
   ]
  },
  {
   "cell_type": "code",
   "execution_count": 53,
   "metadata": {
    "collapsed": true
   },
   "outputs": [],
   "source": [
    "address=''\n",
    "%run 'address'  #lese geheime address='http://ip-number:port'"
   ]
  },
  {
   "cell_type": "code",
   "execution_count": 54,
   "metadata": {
    "collapsed": true
   },
   "outputs": [],
   "source": [
    "xda = XDAClient(OPCServerAddress=address,\n",
    "                ReturnErrorText=True)"
   ]
  },
  {
   "cell_type": "code",
   "execution_count": 55,
   "metadata": {
    "collapsed": true
   },
   "outputs": [],
   "source": [
    "path='Loc/Wec/Plant2'"
   ]
  },
  {
   "cell_type": "code",
   "execution_count": 63,
   "metadata": {
    "collapsed": false
   },
   "outputs": [],
   "source": [
    "disk_engine = create_engine('sqlite:///egneos1.db')"
   ]
  },
  {
   "cell_type": "code",
   "execution_count": null,
   "metadata": {
    "collapsed": false
   },
   "outputs": [],
   "source": [
    "while 1:\n",
    "    itemcollect=[]\n",
    "    data={}\n",
    "    for i in xda.Browse(ItemName=path)[0][:]:\n",
    "        #print i.Name\n",
    "        if not i.HasChildren:\n",
    "            i = ItemContainer(ItemName=path+\"/\"+i.Name)\n",
    "            itemcollect.append(i)\n",
    "    #print itemcollect\n",
    "    clear_output()\n",
    "    %time all=xda.Read(itemcollect)\n",
    "    \n",
    "    data['Timestamp']=all[1]['RcvTime']\n",
    "\n",
    "    for i in all[0]:\n",
    "        i.Name=str.replace(i.ItemName,path+\"/\",\"\")\n",
    "        #print i.Name,\"  \",i.Value\n",
    "        data[i.Name]=i.Value\n",
    "\n",
    "    data\n",
    "    series=pd.Series(data)\n",
    "    pd.DataFrame(series).T.to_sql('data3', disk_engine, if_exists='append')\n",
    "    time.sleep(1)"
   ]
  },
  {
   "cell_type": "code",
   "execution_count": 39,
   "metadata": {
    "collapsed": false
   },
   "outputs": [],
   "source": [
    "pd.DataFrame(series).T.to_sql('data3', disk_engine, if_exists='append')"
   ]
  },
  {
   "cell_type": "code",
   "execution_count": null,
   "metadata": {
    "collapsed": false
   },
   "outputs": [],
   "source": [
    "df = pd.read_sql_query('SELECT * FROM data3 LIMIT 300', disk_engine)\n",
    "df"
   ]
  },
  {
   "cell_type": "code",
   "execution_count": 43,
   "metadata": {
    "collapsed": false
   },
   "outputs": [
    {
     "data": {
      "text/html": [
       "<div>\n",
       "<table border=\"1\" class=\"dataframe\">\n",
       "  <thead>\n",
       "    <tr style=\"text-align: right;\">\n",
       "      <th></th>\n",
       "      <th>Activ</th>\n",
       "      <th>Alias</th>\n",
       "      <th>CosPhi</th>\n",
       "      <th>Freq</th>\n",
       "      <th>GoPos</th>\n",
       "      <th>Hour</th>\n",
       "      <th>I-L1</th>\n",
       "      <th>I-L2</th>\n",
       "      <th>I-L3</th>\n",
       "      <th>NRotor</th>\n",
       "      <th>...</th>\n",
       "      <th>SerieNo</th>\n",
       "      <th>Timestamp</th>\n",
       "      <th>TypeNo</th>\n",
       "      <th>TypeStr</th>\n",
       "      <th>U-L1</th>\n",
       "      <th>U-L2</th>\n",
       "      <th>U-L3</th>\n",
       "      <th>Vane</th>\n",
       "      <th>Vwind</th>\n",
       "      <th>Wexp</th>\n",
       "    </tr>\n",
       "  </thead>\n",
       "  <tbody>\n",
       "    <tr>\n",
       "      <th>0</th>\n",
       "      <td>True</td>\n",
       "      <td></td>\n",
       "      <td>0.996133</td>\n",
       "      <td>49.99</td>\n",
       "      <td>134</td>\n",
       "      <td>1946</td>\n",
       "      <td>1082</td>\n",
       "      <td>1085</td>\n",
       "      <td>1052</td>\n",
       "      <td>10.23</td>\n",
       "      <td>...</td>\n",
       "      <td>1011128</td>\n",
       "      <td>2016-02-07 12:54:06</td>\n",
       "      <td>241</td>\n",
       "      <td>CS101a</td>\n",
       "      <td>242</td>\n",
       "      <td>241</td>\n",
       "      <td>242</td>\n",
       "      <td>-12.9</td>\n",
       "      <td>7.3</td>\n",
       "      <td>2385792</td>\n",
       "    </tr>\n",
       "  </tbody>\n",
       "</table>\n",
       "<p>1 rows × 27 columns</p>\n",
       "</div>"
      ],
      "text/plain": [
       "  Activ Alias    CosPhi   Freq GoPos  Hour  I-L1  I-L2  I-L3 NRotor   ...     \\\n",
       "0  True        0.996133  49.99   134  1946  1082  1085  1052  10.23   ...      \n",
       "\n",
       "   SerieNo            Timestamp TypeNo TypeStr U-L1 U-L2 U-L3  Vane Vwind  \\\n",
       "0  1011128  2016-02-07 12:54:06    241  CS101a  242  241  242 -12.9   7.3   \n",
       "\n",
       "      Wexp  \n",
       "0  2385792  \n",
       "\n",
       "[1 rows x 27 columns]"
      ]
     },
     "execution_count": 43,
     "metadata": {},
     "output_type": "execute_result"
    }
   ],
   "source": [
    "pd.DataFrame(data=series).T"
   ]
  },
  {
   "cell_type": "code",
   "execution_count": 49,
   "metadata": {
    "collapsed": false
   },
   "outputs": [
    {
     "data": {
      "text/plain": [
       "Activ                        True\n",
       "Alias                            \n",
       "CosPhi                    0.99834\n",
       "Freq                        50.01\n",
       "GoPos                         136\n",
       "Hour                         1947\n",
       "I-L1                          627\n",
       "I-L2                          634\n",
       "I-L3                          640\n",
       "NRotor                       8.76\n",
       "NomP                         3075\n",
       "P                             468\n",
       "PavaExtern                    463\n",
       "PavaForceM                    463\n",
       "PavaTech                      463\n",
       "PavaVWind                     463\n",
       "Q                             -27\n",
       "SerieNo                   1011128\n",
       "Timestamp     2016-02-07 13:18:25\n",
       "TypeNo                        241\n",
       "TypeStr                    CS101a\n",
       "U-L1                          242\n",
       "U-L2                          242\n",
       "U-L3                          242\n",
       "Vane                         -5.9\n",
       "Vwind                         5.5\n",
       "Wexp                      2386055\n",
       "dtype: object"
      ]
     },
     "execution_count": 49,
     "metadata": {},
     "output_type": "execute_result"
    }
   ],
   "source": [
    "series"
   ]
  },
  {
   "cell_type": "code",
   "execution_count": null,
   "metadata": {
    "collapsed": true
   },
   "outputs": [],
   "source": []
  }
 ],
 "metadata": {
  "kernelspec": {
   "display_name": "Python 2",
   "language": "python",
   "name": "python2"
  }
 },
 "nbformat": 4,
 "nbformat_minor": 0
}
