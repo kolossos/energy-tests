{
 "cells": [
  {
   "cell_type": "code",
   "execution_count": 1,
   "metadata": {
    "collapsed": true
   },
   "outputs": [],
   "source": [
    "%matplotlib inline\n",
    "#import sys    \n",
    "#reload(sys)  \n",
    "#sys.setdefaultencoding('utf8')\n",
    "\n",
    "import numpy as np\n",
    "import pandas as pd\n",
    "\n",
    "import matplotlib.pyplot as plt\n",
    "import matplotlib.dates as dates\n",
    "\n",
    "from __future__ import print_function # for python 2\n",
    "from ipywidgets import interact, interactive, fixed\n",
    "import ipywidgets as widgets"
   ]
  },
  {
   "cell_type": "code",
   "execution_count": 5,
   "metadata": {
    "collapsed": true
   },
   "outputs": [],
   "source": [
    "filename=\"stundenwerte_FF_03811_19830101_20151231_hist.zip\"   #ORT: Oschatz historisch"
   ]
  },
  {
   "cell_type": "code",
   "execution_count": 6,
   "metadata": {
    "collapsed": false
   },
   "outputs": [
    {
     "name": "stdout",
     "output_type": "stream",
     "text": [
      "--2016-08-23 21:20:06--  ftp://ftp-cdc.dwd.de/pub/CDC/observations_germany/climate/hourly/wind/historical/stundenwerte_FF_03811_19830101_20151231_hist.zip\n",
      "           => »stundenwerte_FF_03811_19830101_20151231_hist.zip.1«\n",
      "Auflösen des Hostnamen »ftp-cdc.dwd.de (ftp-cdc.dwd.de)«... 141.38.3.177\n",
      "Verbindungsaufbau zu ftp-cdc.dwd.de (ftp-cdc.dwd.de)|141.38.3.177|:21... verbunden.\n",
      "Anmelden als anonymous ... Angemeldet!\n",
      "==> SYST ... fertig.    ==> PWD ... fertig.\n",
      "==> TYPE I ... fertig.  ==> CWD (1) /pub/CDC/observations_germany/climate/hourly/wind/historical ... fertig.\n",
      "==> SIZE stundenwerte_FF_03811_19830101_20151231_hist.zip ... 1309217\n",
      "==> PASV ... fertig.    ==> RETR stundenwerte_FF_03811_19830101_20151231_hist.zip ... fertig.\n",
      "Länge: 1309217 (1,2M) (unmaßgeblich)\n",
      "\n",
      "100%[======================================>] 1.309.217   2,14MB/s   in 0,6s   \n",
      "\n",
      "2016-08-23 21:20:07 (2,14 MB/s) - »stundenwerte_FF_03811_19830101_20151231_hist.zip.1« gespeichert [1309217]\n",
      "\n"
     ]
    }
   ],
   "source": [
    "!wget \"ftp://ftp-cdc.dwd.de/pub/CDC/observations_germany/climate/hourly/wind/historical/$filename\""
   ]
  },
  {
   "cell_type": "code",
   "execution_count": 6,
   "metadata": {
    "collapsed": false
   },
   "outputs": [
    {
     "name": "stdout",
     "output_type": "stream",
     "text": [
      "Archive:  stundenwerte_FF_03811_19830101_20151231_hist.zip\n",
      "replace Beschreibung_wind_Element_Detail_03811.html? [y]es, [n]o, [A]ll, [N]one, [r]ename: ^C\n"
     ]
    }
   ],
   "source": [
    "!unzip $filename"
   ]
  },
  {
   "cell_type": "code",
   "execution_count": null,
   "metadata": {
    "collapsed": false,
    "scrolled": false
   },
   "outputs": [],
   "source": []
  },
  {
   "cell_type": "code",
   "execution_count": 7,
   "metadata": {
    "collapsed": false
   },
   "outputs": [
    {
     "data": {
      "text/html": [
       "<div>\n",
       "<table border=\"1\" class=\"dataframe\">\n",
       "  <thead>\n",
       "    <tr style=\"text-align: right;\">\n",
       "      <th></th>\n",
       "      <th>Stations_id</th>\n",
       "      <th>Stationshoehe</th>\n",
       "      <th>Geogr.Breite</th>\n",
       "      <th>Geogr.Laenge</th>\n",
       "      <th>von_datum</th>\n",
       "      <th>bis_datum</th>\n",
       "      <th>Stationsname</th>\n",
       "      <th></th>\n",
       "    </tr>\n",
       "  </thead>\n",
       "  <tbody>\n",
       "    <tr>\n",
       "      <th>0</th>\n",
       "      <td>3811</td>\n",
       "      <td>150</td>\n",
       "      <td>51.2959</td>\n",
       "      <td>13.0930</td>\n",
       "      <td>19770301</td>\n",
       "      <td>19771231</td>\n",
       "      <td>Oschatz                                       ...</td>\n",
       "      <td>NaN</td>\n",
       "    </tr>\n",
       "    <tr>\n",
       "      <th>1</th>\n",
       "      <td>3811</td>\n",
       "      <td>150</td>\n",
       "      <td>51.2959</td>\n",
       "      <td>13.0930</td>\n",
       "      <td>19780101</td>\n",
       "      <td>20060504</td>\n",
       "      <td>Oschatz                                       ...</td>\n",
       "      <td>NaN</td>\n",
       "    </tr>\n",
       "    <tr>\n",
       "      <th>2</th>\n",
       "      <td>3811</td>\n",
       "      <td>150</td>\n",
       "      <td>51.2960</td>\n",
       "      <td>13.0928</td>\n",
       "      <td>20060505</td>\n",
       "      <td>20080731</td>\n",
       "      <td>Oschatz                                       ...</td>\n",
       "      <td>NaN</td>\n",
       "    </tr>\n",
       "    <tr>\n",
       "      <th>3</th>\n",
       "      <td>3811</td>\n",
       "      <td>150</td>\n",
       "      <td>51.2960</td>\n",
       "      <td>13.0928</td>\n",
       "      <td>20080801</td>\n",
       "      <td></td>\n",
       "      <td>Oschatz                                       ...</td>\n",
       "      <td>NaN</td>\n",
       "    </tr>\n",
       "  </tbody>\n",
       "</table>\n",
       "</div>"
      ],
      "text/plain": [
       "   Stations_id   Stationshoehe   Geogr.Breite   Geogr.Laenge   von_datum  \\\n",
       "0         3811             150        51.2959        13.0930    19770301   \n",
       "1         3811             150        51.2959        13.0930    19780101   \n",
       "2         3811             150        51.2960        13.0928    20060505   \n",
       "3         3811             150        51.2960        13.0928    20080801   \n",
       "\n",
       "   bis_datum                                       Stationsname  \\\n",
       "0   19771231  Oschatz                                       ...   \n",
       "1   20060504  Oschatz                                       ...   \n",
       "2   20080731  Oschatz                                       ...   \n",
       "3             Oschatz                                       ...   \n",
       "\n",
       "                                                                                                                  \n",
       "0                                                NaN                                                              \n",
       "1                                                NaN                                                              \n",
       "2                                                NaN                                                              \n",
       "3                                                NaN                                                              "
      ]
     },
     "execution_count": 7,
     "metadata": {},
     "output_type": "execute_result"
    }
   ],
   "source": [
    "pd.read_csv(\"Stationsmetadaten_wind_stationen_03811_19830101_20151231.txt\",sep=\";\")"
   ]
  },
  {
   "cell_type": "code",
   "execution_count": 77,
   "metadata": {
    "collapsed": false
   },
   "outputs": [
    {
     "data": {
      "text/html": [
       "<div>\n",
       "<table border=\"1\" class=\"dataframe\">\n",
       "  <thead>\n",
       "    <tr style=\"text-align: right;\">\n",
       "      <th></th>\n",
       "      <th>STATIONS_ID</th>\n",
       "      <th>MESS_DATUM</th>\n",
       "      <th>QUALITAETS_NIVEAU</th>\n",
       "      <th>STRUKTUR_VERSION</th>\n",
       "      <th>WINDGESCHWINDIGKEIT</th>\n",
       "      <th>WINDRICHTUNG</th>\n",
       "      <th>eor</th>\n",
       "    </tr>\n",
       "  </thead>\n",
       "  <tbody>\n",
       "    <tr>\n",
       "      <th>286913</th>\n",
       "      <td>3811</td>\n",
       "      <td>2.015123e+09</td>\n",
       "      <td>7.0</td>\n",
       "      <td>61.0</td>\n",
       "      <td>2.8</td>\n",
       "      <td>220.0</td>\n",
       "      <td>eor</td>\n",
       "    </tr>\n",
       "    <tr>\n",
       "      <th>286914</th>\n",
       "      <td>3811</td>\n",
       "      <td>2.015123e+09</td>\n",
       "      <td>7.0</td>\n",
       "      <td>61.0</td>\n",
       "      <td>4.3</td>\n",
       "      <td>220.0</td>\n",
       "      <td>eor</td>\n",
       "    </tr>\n",
       "    <tr>\n",
       "      <th>286915</th>\n",
       "      <td>3811</td>\n",
       "      <td>2.015123e+09</td>\n",
       "      <td>7.0</td>\n",
       "      <td>61.0</td>\n",
       "      <td>2.6</td>\n",
       "      <td>230.0</td>\n",
       "      <td>eor</td>\n",
       "    </tr>\n",
       "    <tr>\n",
       "      <th>286916</th>\n",
       "      <td>3811</td>\n",
       "      <td>2.015123e+09</td>\n",
       "      <td>7.0</td>\n",
       "      <td>61.0</td>\n",
       "      <td>2.2</td>\n",
       "      <td>220.0</td>\n",
       "      <td>eor</td>\n",
       "    </tr>\n",
       "    <tr>\n",
       "      <th>286917</th>\n",
       "      <td>\u001a</td>\n",
       "      <td>NaN</td>\n",
       "      <td>NaN</td>\n",
       "      <td>NaN</td>\n",
       "      <td>NaN</td>\n",
       "      <td>NaN</td>\n",
       "      <td>NaN</td>\n",
       "    </tr>\n",
       "  </tbody>\n",
       "</table>\n",
       "</div>"
      ],
      "text/plain": [
       "       STATIONS_ID    MESS_DATUM   QUALITAETS_NIVEAU   STRUKTUR_VERSION  \\\n",
       "286913        3811  2.015123e+09                 7.0               61.0   \n",
       "286914        3811  2.015123e+09                 7.0               61.0   \n",
       "286915        3811  2.015123e+09                 7.0               61.0   \n",
       "286916        3811  2.015123e+09                 7.0               61.0   \n",
       "286917           \u001a           NaN                 NaN                NaN   \n",
       "\n",
       "         WINDGESCHWINDIGKEIT  WINDRICHTUNG  eor  \n",
       "286913                   2.8         220.0  eor  \n",
       "286914                   4.3         220.0  eor  \n",
       "286915                   2.6         230.0  eor  \n",
       "286916                   2.2         220.0  eor  \n",
       "286917                   NaN           NaN  NaN  "
      ]
     },
     "execution_count": 77,
     "metadata": {},
     "output_type": "execute_result"
    }
   ],
   "source": [
    "dwd_wind=pd.read_csv(\"produkt_wind_Terminwerte_19830101_20151231_03811.txt\",sep=\";\")\n",
    "dwd_wind.tail()"
   ]
  },
  {
   "cell_type": "code",
   "execution_count": 78,
   "metadata": {
    "collapsed": false
   },
   "outputs": [],
   "source": [
    "dwd_wind.columns=dwd_wind.columns.str.strip()"
   ]
  },
  {
   "cell_type": "code",
   "execution_count": 79,
   "metadata": {
    "collapsed": false
   },
   "outputs": [
    {
     "data": {
      "text/html": [
       "<div>\n",
       "<table border=\"1\" class=\"dataframe\">\n",
       "  <thead>\n",
       "    <tr style=\"text-align: right;\">\n",
       "      <th></th>\n",
       "      <th>STATIONS_ID</th>\n",
       "      <th>MESS_DATUM</th>\n",
       "      <th>QUALITAETS_NIVEAU</th>\n",
       "      <th>STRUKTUR_VERSION</th>\n",
       "      <th>WINDGESCHWINDIGKEIT</th>\n",
       "      <th>WINDRICHTUNG</th>\n",
       "      <th>eor</th>\n",
       "    </tr>\n",
       "    <tr>\n",
       "      <th>MESS_DATUM</th>\n",
       "      <th></th>\n",
       "      <th></th>\n",
       "      <th></th>\n",
       "      <th></th>\n",
       "      <th></th>\n",
       "      <th></th>\n",
       "      <th></th>\n",
       "    </tr>\n",
       "  </thead>\n",
       "  <tbody>\n",
       "    <tr>\n",
       "      <th>2015-12-31 19:00:00</th>\n",
       "      <td>3811</td>\n",
       "      <td>2.015123e+09</td>\n",
       "      <td>7.0</td>\n",
       "      <td>61.0</td>\n",
       "      <td>2.5</td>\n",
       "      <td>210.0</td>\n",
       "      <td>eor</td>\n",
       "    </tr>\n",
       "    <tr>\n",
       "      <th>2015-12-31 20:00:00</th>\n",
       "      <td>3811</td>\n",
       "      <td>2.015123e+09</td>\n",
       "      <td>7.0</td>\n",
       "      <td>61.0</td>\n",
       "      <td>2.8</td>\n",
       "      <td>220.0</td>\n",
       "      <td>eor</td>\n",
       "    </tr>\n",
       "    <tr>\n",
       "      <th>2015-12-31 21:00:00</th>\n",
       "      <td>3811</td>\n",
       "      <td>2.015123e+09</td>\n",
       "      <td>7.0</td>\n",
       "      <td>61.0</td>\n",
       "      <td>4.3</td>\n",
       "      <td>220.0</td>\n",
       "      <td>eor</td>\n",
       "    </tr>\n",
       "    <tr>\n",
       "      <th>2015-12-31 22:00:00</th>\n",
       "      <td>3811</td>\n",
       "      <td>2.015123e+09</td>\n",
       "      <td>7.0</td>\n",
       "      <td>61.0</td>\n",
       "      <td>2.6</td>\n",
       "      <td>230.0</td>\n",
       "      <td>eor</td>\n",
       "    </tr>\n",
       "    <tr>\n",
       "      <th>2015-12-31 23:00:00</th>\n",
       "      <td>3811</td>\n",
       "      <td>2.015123e+09</td>\n",
       "      <td>7.0</td>\n",
       "      <td>61.0</td>\n",
       "      <td>2.2</td>\n",
       "      <td>220.0</td>\n",
       "      <td>eor</td>\n",
       "    </tr>\n",
       "  </tbody>\n",
       "</table>\n",
       "</div>"
      ],
      "text/plain": [
       "                    STATIONS_ID    MESS_DATUM  QUALITAETS_NIVEAU  \\\n",
       "MESS_DATUM                                                         \n",
       "2015-12-31 19:00:00        3811  2.015123e+09                7.0   \n",
       "2015-12-31 20:00:00        3811  2.015123e+09                7.0   \n",
       "2015-12-31 21:00:00        3811  2.015123e+09                7.0   \n",
       "2015-12-31 22:00:00        3811  2.015123e+09                7.0   \n",
       "2015-12-31 23:00:00        3811  2.015123e+09                7.0   \n",
       "\n",
       "                     STRUKTUR_VERSION  WINDGESCHWINDIGKEIT  WINDRICHTUNG  eor  \n",
       "MESS_DATUM                                                                     \n",
       "2015-12-31 19:00:00              61.0                  2.5         210.0  eor  \n",
       "2015-12-31 20:00:00              61.0                  2.8         220.0  eor  \n",
       "2015-12-31 21:00:00              61.0                  4.3         220.0  eor  \n",
       "2015-12-31 22:00:00              61.0                  2.6         230.0  eor  \n",
       "2015-12-31 23:00:00              61.0                  2.2         220.0  eor  "
      ]
     },
     "execution_count": 79,
     "metadata": {},
     "output_type": "execute_result"
    }
   ],
   "source": [
    "dwd_wind = dwd_wind[np.isfinite(dwd_wind['MESS_DATUM'])]\n",
    "dwd_wind.index=pd.to_datetime(dwd_wind.MESS_DATUM.astype(int), format='%Y%m%d%H')\n",
    "dwd_wind[dwd_wind.WINDGESCHWINDIGKEIT==-999] =np.NaN\n",
    "\n",
    "dwd_wind.tail()"
   ]
  },
  {
   "cell_type": "code",
   "execution_count": 130,
   "metadata": {
    "collapsed": false
   },
   "outputs": [
    {
     "data": {
      "text/plain": [
       "<matplotlib.axes._subplots.AxesSubplot at 0x7f39cafb61d0>"
      ]
     },
     "execution_count": 130,
     "metadata": {},
     "output_type": "execute_result"
    },
    {
     "data": {
      "image/png": "[encoded data removed]",
      "text/plain": [
       "<matplotlib.figure.Figure at 0x7f39cad39810>"
      ]
     },
     "metadata": {},
     "output_type": "display_data"
    }
   ],
   "source": [
    "dwd_wind[-10000:].WINDGESCHWINDIGKEIT.plot()"
   ]
  },
  {
   "cell_type": "code",
   "execution_count": 81,
   "metadata": {
    "collapsed": false
   },
   "outputs": [
    {
     "data": {
      "text/plain": [
       "<matplotlib.axes._subplots.AxesSubplot at 0x7f39cc4e7dd0>"
      ]
     },
     "execution_count": 81,
     "metadata": {},
     "output_type": "execute_result"
    },
    {
     "data": {
      "image/png": "[encoded data removed]",
      "text/plain": [
       "<matplotlib.figure.Figure at 0x7f39cbf09dd0>"
      ]
     },
     "metadata": {},
     "output_type": "display_data"
    }
   ],
   "source": [
    "g=dwd_wind.groupby(dwd_wind.index.year)\n",
    "g.mean()\n",
    "g.WINDGESCHWINDIGKEIT.mean().plot(ylim=(3,5))"
   ]
  },
  {
   "cell_type": "code",
   "execution_count": 13,
   "metadata": {
    "collapsed": false
   },
   "outputs": [
    {
     "data": {
      "text/plain": [
       "(3.646266676620438, '+-', 0.23596760360738647)"
      ]
     },
     "execution_count": 13,
     "metadata": {},
     "output_type": "execute_result"
    }
   ],
   "source": [
    "g.WINDGESCHWINDIGKEIT.mean().mean(),\"+-\",g.WINDGESCHWINDIGKEIT.mean().std()"
   ]
  },
  {
   "cell_type": "code",
   "execution_count": 14,
   "metadata": {
    "collapsed": false
   },
   "outputs": [],
   "source": [
    "#(g.WINDGESCHWINDIGKEIT.mean()[0:10].mean()/g.WINDGESCHWINDIGKEIT.mean()[-10:].mean())**3\n",
    "##23% weniger Windenergie"
   ]
  },
  {
   "cell_type": "code",
   "execution_count": 132,
   "metadata": {
    "collapsed": false
   },
   "outputs": [
    {
     "data": {
      "text/plain": [
       "[<matplotlib.lines.Line2D at 0x7f39cb3e30d0>]"
      ]
     },
     "execution_count": 132,
     "metadata": {},
     "output_type": "execute_result"
    },
    {
     "data": {
      "image/png": "[encoded data removed]",
      "text/plain": [
       "<matplotlib.figure.Figure at 0x7f39cb578910>"
      ]
     },
     "metadata": {},
     "output_type": "display_data"
    }
   ],
   "source": [
    "fig=plt.figure(figsize=(15,5))\n",
    "plt.plot(g.WINDGESCHWINDIGKEIT.mean()**3)"
   ]
  },
  {
   "cell_type": "code",
   "execution_count": 16,
   "metadata": {
    "collapsed": false
   },
   "outputs": [
    {
     "data": {
      "text/plain": [
       "<matplotlib.axes._subplots.AxesSubplot at 0x7f39cc786a10>"
      ]
     },
     "execution_count": 16,
     "metadata": {},
     "output_type": "execute_result"
    },
    {
     "data": {
      "image/png": "[encoded data removed]",
      "text/plain": [
       "<matplotlib.figure.Figure at 0x7f39cc6f1790>"
      ]
     },
     "metadata": {},
     "output_type": "display_data"
    }
   ],
   "source": [
    "dwd_wind.WINDGESCHWINDIGKEIT[-240:].plot()"
   ]
  },
  {
   "cell_type": "code",
   "execution_count": 17,
   "metadata": {
    "collapsed": false
   },
   "outputs": [
    {
     "name": "stdout",
     "output_type": "stream",
     "text": [
      "--2016-11-06 15:00:34--  ftp://ftp-cdc.dwd.de/pub/CDC/observations_germany/climate/hourly/wind/recent/stundenwerte_FF_03811_akt.zip\n",
      "           => »stundenwerte_FF_03811_akt.zip«\n",
      "Auflösen des Hostnamen »ftp-cdc.dwd.de (ftp-cdc.dwd.de)«... 141.38.3.177\n",
      "Verbindungsaufbau zu ftp-cdc.dwd.de (ftp-cdc.dwd.de)|141.38.3.177|:21... verbunden.\n",
      "Anmelden als anonymous ... Angemeldet!\n",
      "==> SYST ... fertig.    ==> PWD ... fertig.\n",
      "==> TYPE I ... fertig.  ==> CWD (1) /pub/CDC/observations_germany/climate/hourly/wind/recent ... fertig.\n",
      "==> SIZE stundenwerte_FF_03811_akt.zip ... 66177\n",
      "==> PASV ... fertig.    ==> RETR stundenwerte_FF_03811_akt.zip ... fertig.\n",
      "Länge: 66177 (65K) (unmaßgeblich)\n",
      "\n",
      "100%[======================================>] 66.177       320KB/s   in 0,2s   \n",
      "\n",
      "2016-11-06 15:00:34 (320 KB/s) - »stundenwerte_FF_03811_akt.zip« gespeichert [66177]\n",
      "\n"
     ]
    }
   ],
   "source": [
    "filename=\"stundenwerte_FF_03811_akt.zip\" \n",
    "!wget \"ftp://ftp-cdc.dwd.de/pub/CDC/observations_germany/climate/hourly/wind/recent/$filename\""
   ]
  },
  {
   "cell_type": "code",
   "execution_count": 20,
   "metadata": {
    "collapsed": false
   },
   "outputs": [
    {
     "name": "stdout",
     "output_type": "stream",
     "text": [
      "Archive:  stundenwerte_FF_03811_akt.zip\r\n",
      "  inflating: Beschreibung_wind_Element_Detail_03811.html  \r\n",
      "  inflating: Beschreibung_wind_Geraete_Detail_03811.html  \r\n",
      "  inflating: produkt_wind_Terminwerte_20150506_20161105_03811.txt  \r\n",
      "  inflating: Stationsmetadaten_wind_stationen_03811_20150506_20161105.txt  \r\n"
     ]
    }
   ],
   "source": [
    "!unzip $filename"
   ]
  },
  {
   "cell_type": "code",
   "execution_count": 55,
   "metadata": {
    "collapsed": false
   },
   "outputs": [
    {
     "data": {
      "text/html": [
       "<div>\n",
       "<table border=\"1\" class=\"dataframe\">\n",
       "  <thead>\n",
       "    <tr style=\"text-align: right;\">\n",
       "      <th></th>\n",
       "      <th>Stations_id</th>\n",
       "      <th>Stationshoehe</th>\n",
       "      <th>Geogr.Breite</th>\n",
       "      <th>Geogr.Laenge</th>\n",
       "      <th>von_datum</th>\n",
       "      <th>bis_datum</th>\n",
       "      <th>Stationsname</th>\n",
       "      <th></th>\n",
       "    </tr>\n",
       "  </thead>\n",
       "  <tbody>\n",
       "    <tr>\n",
       "      <th>0</th>\n",
       "      <td>3811</td>\n",
       "      <td>150</td>\n",
       "      <td>51.2959</td>\n",
       "      <td>13.0930</td>\n",
       "      <td>19770301</td>\n",
       "      <td>19771231</td>\n",
       "      <td>Oschatz                                       ...</td>\n",
       "      <td>NaN</td>\n",
       "    </tr>\n",
       "    <tr>\n",
       "      <th>1</th>\n",
       "      <td>3811</td>\n",
       "      <td>150</td>\n",
       "      <td>51.2959</td>\n",
       "      <td>13.0930</td>\n",
       "      <td>19780101</td>\n",
       "      <td>20060504</td>\n",
       "      <td>Oschatz                                       ...</td>\n",
       "      <td>NaN</td>\n",
       "    </tr>\n",
       "    <tr>\n",
       "      <th>2</th>\n",
       "      <td>3811</td>\n",
       "      <td>150</td>\n",
       "      <td>51.2960</td>\n",
       "      <td>13.0928</td>\n",
       "      <td>20060505</td>\n",
       "      <td>20080731</td>\n",
       "      <td>Oschatz                                       ...</td>\n",
       "      <td>NaN</td>\n",
       "    </tr>\n",
       "    <tr>\n",
       "      <th>3</th>\n",
       "      <td>3811</td>\n",
       "      <td>150</td>\n",
       "      <td>51.2960</td>\n",
       "      <td>13.0928</td>\n",
       "      <td>20080801</td>\n",
       "      <td></td>\n",
       "      <td>Oschatz                                       ...</td>\n",
       "      <td>NaN</td>\n",
       "    </tr>\n",
       "  </tbody>\n",
       "</table>\n",
       "</div>"
      ],
      "text/plain": [
       "   Stations_id   Stationshoehe   Geogr.Breite   Geogr.Laenge   von_datum  \\\n",
       "0         3811             150        51.2959        13.0930    19770301   \n",
       "1         3811             150        51.2959        13.0930    19780101   \n",
       "2         3811             150        51.2960        13.0928    20060505   \n",
       "3         3811             150        51.2960        13.0928    20080801   \n",
       "\n",
       "   bis_datum                                       Stationsname  \\\n",
       "0   19771231  Oschatz                                       ...   \n",
       "1   20060504  Oschatz                                       ...   \n",
       "2   20080731  Oschatz                                       ...   \n",
       "3             Oschatz                                       ...   \n",
       "\n",
       "                                                                                                                  \n",
       "0                                                NaN                                                              \n",
       "1                                                NaN                                                              \n",
       "2                                                NaN                                                              \n",
       "3                                                NaN                                                              "
      ]
     },
     "execution_count": 55,
     "metadata": {},
     "output_type": "execute_result"
    }
   ],
   "source": [
    "pd.read_csv(\"Stationsmetadaten_wind_stationen_03811_20150506_20161105.txt\",sep=\";\")"
   ]
  },
  {
   "cell_type": "code",
   "execution_count": 105,
   "metadata": {
    "collapsed": false
   },
   "outputs": [
    {
     "data": {
      "text/html": [
       "<div>\n",
       "<table border=\"1\" class=\"dataframe\">\n",
       "  <thead>\n",
       "    <tr style=\"text-align: right;\">\n",
       "      <th></th>\n",
       "      <th>STATIONS_ID</th>\n",
       "      <th>MESS_DATUM</th>\n",
       "      <th>QUALITAETS_NIVEAU</th>\n",
       "      <th>STRUKTUR_VERSION</th>\n",
       "      <th>WINDGESCHWINDIGKEIT</th>\n",
       "      <th>WINDRICHTUNG</th>\n",
       "      <th>eor</th>\n",
       "    </tr>\n",
       "  </thead>\n",
       "  <tbody>\n",
       "    <tr>\n",
       "      <th>0</th>\n",
       "      <td>3811</td>\n",
       "      <td>2015050600</td>\n",
       "      <td>10</td>\n",
       "      <td>61</td>\n",
       "      <td>2.7</td>\n",
       "      <td>300</td>\n",
       "      <td>eor</td>\n",
       "    </tr>\n",
       "    <tr>\n",
       "      <th>1</th>\n",
       "      <td>3811</td>\n",
       "      <td>2015050601</td>\n",
       "      <td>10</td>\n",
       "      <td>61</td>\n",
       "      <td>2.1</td>\n",
       "      <td>300</td>\n",
       "      <td>eor</td>\n",
       "    </tr>\n",
       "    <tr>\n",
       "      <th>2</th>\n",
       "      <td>3811</td>\n",
       "      <td>2015050602</td>\n",
       "      <td>10</td>\n",
       "      <td>61</td>\n",
       "      <td>1.4</td>\n",
       "      <td>310</td>\n",
       "      <td>eor</td>\n",
       "    </tr>\n",
       "    <tr>\n",
       "      <th>3</th>\n",
       "      <td>3811</td>\n",
       "      <td>2015050603</td>\n",
       "      <td>10</td>\n",
       "      <td>61</td>\n",
       "      <td>1.0</td>\n",
       "      <td>220</td>\n",
       "      <td>eor</td>\n",
       "    </tr>\n",
       "    <tr>\n",
       "      <th>4</th>\n",
       "      <td>3811</td>\n",
       "      <td>2015050604</td>\n",
       "      <td>10</td>\n",
       "      <td>61</td>\n",
       "      <td>1.1</td>\n",
       "      <td>240</td>\n",
       "      <td>eor</td>\n",
       "    </tr>\n",
       "  </tbody>\n",
       "</table>\n",
       "</div>"
      ],
      "text/plain": [
       "   STATIONS_ID   MESS_DATUM   QUALITAETS_NIVEAU   STRUKTUR_VERSION  \\\n",
       "0         3811   2015050600                  10                 61   \n",
       "1         3811   2015050601                  10                 61   \n",
       "2         3811   2015050602                  10                 61   \n",
       "3         3811   2015050603                  10                 61   \n",
       "4         3811   2015050604                  10                 61   \n",
       "\n",
       "    WINDGESCHWINDIGKEIT  WINDRICHTUNG  eor  \n",
       "0                   2.7           300  eor  \n",
       "1                   2.1           300  eor  \n",
       "2                   1.4           310  eor  \n",
       "3                   1.0           220  eor  \n",
       "4                   1.1           240  eor  "
      ]
     },
     "execution_count": 105,
     "metadata": {},
     "output_type": "execute_result"
    }
   ],
   "source": [
    "akt_wind=pd.read_csv(\"produkt_wind_Terminwerte_20150506_20161105_03811.txt\",sep=\";\")\n",
    "akt_wind.head()"
   ]
  },
  {
   "cell_type": "code",
   "execution_count": 106,
   "metadata": {
    "collapsed": false
   },
   "outputs": [
    {
     "data": {
      "text/html": [
       "<div>\n",
       "<table border=\"1\" class=\"dataframe\">\n",
       "  <thead>\n",
       "    <tr style=\"text-align: right;\">\n",
       "      <th></th>\n",
       "      <th>STATIONS_ID</th>\n",
       "      <th>MESS_DATUM</th>\n",
       "      <th>QUALITAETS_NIVEAU</th>\n",
       "      <th>STRUKTUR_VERSION</th>\n",
       "      <th>WINDGESCHWINDIGKEIT</th>\n",
       "      <th>WINDRICHTUNG</th>\n",
       "      <th>eor</th>\n",
       "    </tr>\n",
       "    <tr>\n",
       "      <th>MESS_DATUM</th>\n",
       "      <th></th>\n",
       "      <th></th>\n",
       "      <th></th>\n",
       "      <th></th>\n",
       "      <th></th>\n",
       "      <th></th>\n",
       "      <th></th>\n",
       "    </tr>\n",
       "  </thead>\n",
       "  <tbody>\n",
       "    <tr>\n",
       "      <th>2016-11-05 19:00:00</th>\n",
       "      <td>3811.0</td>\n",
       "      <td>2.016111e+09</td>\n",
       "      <td>1.0</td>\n",
       "      <td>61.0</td>\n",
       "      <td>1.8</td>\n",
       "      <td>240.0</td>\n",
       "      <td>eor</td>\n",
       "    </tr>\n",
       "    <tr>\n",
       "      <th>2016-11-05 20:00:00</th>\n",
       "      <td>3811.0</td>\n",
       "      <td>2.016111e+09</td>\n",
       "      <td>1.0</td>\n",
       "      <td>61.0</td>\n",
       "      <td>3.1</td>\n",
       "      <td>270.0</td>\n",
       "      <td>eor</td>\n",
       "    </tr>\n",
       "    <tr>\n",
       "      <th>2016-11-05 21:00:00</th>\n",
       "      <td>3811.0</td>\n",
       "      <td>2.016111e+09</td>\n",
       "      <td>1.0</td>\n",
       "      <td>61.0</td>\n",
       "      <td>3.4</td>\n",
       "      <td>250.0</td>\n",
       "      <td>eor</td>\n",
       "    </tr>\n",
       "    <tr>\n",
       "      <th>2016-11-05 22:00:00</th>\n",
       "      <td>3811.0</td>\n",
       "      <td>2.016111e+09</td>\n",
       "      <td>1.0</td>\n",
       "      <td>61.0</td>\n",
       "      <td>3.8</td>\n",
       "      <td>240.0</td>\n",
       "      <td>eor</td>\n",
       "    </tr>\n",
       "    <tr>\n",
       "      <th>2016-11-05 23:00:00</th>\n",
       "      <td>3811.0</td>\n",
       "      <td>2.016111e+09</td>\n",
       "      <td>1.0</td>\n",
       "      <td>61.0</td>\n",
       "      <td>3.8</td>\n",
       "      <td>250.0</td>\n",
       "      <td>eor</td>\n",
       "    </tr>\n",
       "  </tbody>\n",
       "</table>\n",
       "</div>"
      ],
      "text/plain": [
       "                     STATIONS_ID    MESS_DATUM  QUALITAETS_NIVEAU  \\\n",
       "MESS_DATUM                                                          \n",
       "2016-11-05 19:00:00       3811.0  2.016111e+09                1.0   \n",
       "2016-11-05 20:00:00       3811.0  2.016111e+09                1.0   \n",
       "2016-11-05 21:00:00       3811.0  2.016111e+09                1.0   \n",
       "2016-11-05 22:00:00       3811.0  2.016111e+09                1.0   \n",
       "2016-11-05 23:00:00       3811.0  2.016111e+09                1.0   \n",
       "\n",
       "                     STRUKTUR_VERSION  WINDGESCHWINDIGKEIT  WINDRICHTUNG  eor  \n",
       "MESS_DATUM                                                                     \n",
       "2016-11-05 19:00:00              61.0                  1.8         240.0  eor  \n",
       "2016-11-05 20:00:00              61.0                  3.1         270.0  eor  \n",
       "2016-11-05 21:00:00              61.0                  3.4         250.0  eor  \n",
       "2016-11-05 22:00:00              61.0                  3.8         240.0  eor  \n",
       "2016-11-05 23:00:00              61.0                  3.8         250.0  eor  "
      ]
     },
     "execution_count": 106,
     "metadata": {},
     "output_type": "execute_result"
    }
   ],
   "source": [
    "akt_wind.columns=akt_wind.columns.str.strip()\n",
    "akt_wind = akt_wind[np.isfinite(akt_wind['MESS_DATUM'])]\n",
    "akt_wind.index=pd.to_datetime(akt_wind.MESS_DATUM.astype(int), format='%Y%m%d%H')\n",
    "akt_wind[akt_wind.WINDGESCHWINDIGKEIT==-999] =np.NaN\n",
    "\n",
    "akt_wind.tail()"
   ]
  },
  {
   "cell_type": "code",
   "execution_count": 107,
   "metadata": {
    "collapsed": false
   },
   "outputs": [
    {
     "data": {
      "text/plain": [
       "<matplotlib.axes._subplots.AxesSubplot at 0x7f39cb9d0710>"
      ]
     },
     "execution_count": 107,
     "metadata": {},
     "output_type": "execute_result"
    },
    {
     "data": {
      "image/png": "[encoded data removed]",
      "text/plain": [
       "<matplotlib.figure.Figure at 0x7f39cba08050>"
      ]
     },
     "metadata": {},
     "output_type": "display_data"
    }
   ],
   "source": [
    "akt_wind.WINDGESCHWINDIGKEIT.plot()"
   ]
  },
  {
   "cell_type": "code",
   "execution_count": 68,
   "metadata": {
    "collapsed": false
   },
   "outputs": [
    {
     "data": {
      "text/plain": [
       "STATIONS_ID            3.811000e+03\n",
       "MESS_DATUM             2.015635e+09\n",
       "QUALITAETS_NIVEAU      7.046914e+00\n",
       "STRUKTUR_VERSION       6.100000e+01\n",
       "WINDGESCHWINDIGKEIT    3.187118e+00\n",
       "WINDRICHTUNG           2.078190e+02\n",
       "dtype: float64"
      ]
     },
     "execution_count": 68,
     "metadata": {},
     "output_type": "execute_result"
    }
   ],
   "source": [
    "akt_wind.mean()"
   ]
  },
  {
   "cell_type": "code",
   "execution_count": 69,
   "metadata": {
    "collapsed": false
   },
   "outputs": [
    {
     "data": {
      "text/plain": [
       "MESS_DATUM             1.999102e+09\n",
       "QUALITAETS_NIVEAU      9.233790e+00\n",
       "STRUKTUR_VERSION       3.705777e+01\n",
       "WINDGESCHWINDIGKEIT    3.645507e+00\n",
       "WINDRICHTUNG           2.013625e+02\n",
       "dtype: float64"
      ]
     },
     "execution_count": 69,
     "metadata": {},
     "output_type": "execute_result"
    }
   ],
   "source": [
    "dwd_wind.mean()"
   ]
  },
  {
   "cell_type": "code",
   "execution_count": 70,
   "metadata": {
    "collapsed": false
   },
   "outputs": [
    {
     "data": {
      "text/plain": [
       "3.6455069554094282"
      ]
     },
     "execution_count": 70,
     "metadata": {},
     "output_type": "execute_result"
    }
   ],
   "source": [
    "hist_mean=dwd_wind.mean().WINDGESCHWINDIGKEIT \n",
    "hist_mean"
   ]
  },
  {
   "cell_type": "code",
   "execution_count": 71,
   "metadata": {
    "collapsed": false
   },
   "outputs": [
    {
     "data": {
      "text/plain": [
       "3.3868510928961708"
      ]
     },
     "execution_count": 71,
     "metadata": {},
     "output_type": "execute_result"
    }
   ],
   "source": [
    "akt_mean=akt_wind['2015-11-06':'2016-11-06'].mean().WINDGESCHWINDIGKEIT \n",
    "akt_mean"
   ]
  },
  {
   "cell_type": "code",
   "execution_count": 72,
   "metadata": {
    "collapsed": false
   },
   "outputs": [
    {
     "data": {
      "text/plain": [
       "1.2470546475197877"
      ]
     },
     "execution_count": 72,
     "metadata": {},
     "output_type": "execute_result"
    }
   ],
   "source": [
    "(hist_mean/akt_mean)**3"
   ]
  },
  {
   "cell_type": "code",
   "execution_count": 73,
   "metadata": {
    "collapsed": false
   },
   "outputs": [
    {
     "data": {
      "text/plain": [
       "Index([u'STATIONS_ID', u'MESS_DATUM', u'QUALITAETS_NIVEAU',\n",
       "       u'STRUKTUR_VERSION', u'WINDGESCHWINDIGKEIT', u'WINDRICHTUNG', u'eor'],\n",
       "      dtype='object')"
      ]
     },
     "execution_count": 73,
     "metadata": {},
     "output_type": "execute_result"
    }
   ],
   "source": []
  },
  {
   "cell_type": "code",
   "execution_count": 75,
   "metadata": {
    "collapsed": false
   },
   "outputs": [
    {
     "data": {
      "text/plain": [
       "3.459359935879085"
      ]
     },
     "execution_count": 75,
     "metadata": {},
     "output_type": "execute_result"
    }
   ],
   "source": [
    "hist10_mean=dwd_wind['2005-11-06':'2015-11-06'].mean().WINDGESCHWINDIGKEIT\n",
    "hist10_mean"
   ]
  },
  {
   "cell_type": "code",
   "execution_count": 83,
   "metadata": {
    "collapsed": false
   },
   "outputs": [
    {
     "data": {
      "text/plain": [
       "1.0656116156209909"
      ]
     },
     "execution_count": 83,
     "metadata": {},
     "output_type": "execute_result"
    }
   ],
   "source": [
    "(hist10_mean/akt_mean)**3"
   ]
  },
  {
   "cell_type": "code",
   "execution_count": 129,
   "metadata": {
    "collapsed": false
   },
   "outputs": [
    {
     "name": "stderr",
     "output_type": "stream",
     "text": [
      "/home/noel3/anaconda/lib/python2.7/site-packages/ipykernel/__main__.py:3: UserWarning: Boolean Series key will be reindexed to match DataFrame index.\n",
      "  app.launch_new_instance()\n"
     ]
    },
    {
     "data": {
      "image/png": "[encoded data removed]",
      "text/plain": [
       "<matplotlib.figure.Figure at 0x7f39cae37a10>"
      ]
     },
     "metadata": {},
     "output_type": "display_data"
    }
   ],
   "source": [
    "fig=plt.figure(figsize=(12,8))\n",
    "plt.hist(akt_wind[akt_wind.WINDGESCHWINDIGKEIT<15].WINDGESCHWINDIGKEIT.dropna().values,normed=True, bins=20);\n",
    "plt.hist(dwd_wind['2005-11-06':'2015-11-06'][dwd_wind.WINDGESCHWINDIGKEIT<15].WINDGESCHWINDIGKEIT.dropna().values,normed=True, bins=20, alpha=.5);"
   ]
  },
  {
   "cell_type": "code",
   "execution_count": 143,
   "metadata": {
    "collapsed": false
   },
   "outputs": [],
   "source": [
    "hist10_p=dwd_wind['2005-11-06':'2015-11-06'].WINDGESCHWINDIGKEIT.pow(3)\n",
    "hist10_p[hist10_p>1000]\n",
    "akt_p=akt_wind['2015-11-06':'2016-11-06'].WINDGESCHWINDIGKEIT.pow(3) "
   ]
  },
  {
   "cell_type": "code",
   "execution_count": 142,
   "metadata": {
    "collapsed": false
   },
   "outputs": [
    {
     "data": {
      "text/plain": [
       "(105.30570703615392, 93.06954815574079, 1.1314732812491726)"
      ]
     },
     "execution_count": 142,
     "metadata": {},
     "output_type": "execute_result"
    }
   ],
   "source": [
    "hist10_p.mean(),akt_p.mean(),hist10_p.mean()/akt_p.mean()\n",
    "#13% Weniger Windenergie im letzten Jahr"
   ]
  },
  {
   "cell_type": "code",
   "execution_count": null,
   "metadata": {
    "collapsed": false
   },
   "outputs": [],
   "source": []
  },
  {
   "cell_type": "code",
   "execution_count": null,
   "metadata": {
    "collapsed": true
   },
   "outputs": [],
   "source": []
  }
 ],
 "metadata": {
  "kernelspec": {
   "display_name": "Python 2",
   "language": "python",
   "name": "python2"
  },
  "language_info": {
   "codemirror_mode": {
    "name": "ipython",
    "version": 2
   },
   "file_extension": ".py",
   "mimetype": "text/x-python",
   "name": "python",
   "nbconvert_exporter": "python",
   "pygments_lexer": "ipython2",
   "version": "2.7.11"
  }
 },
 "nbformat": 4,
 "nbformat_minor": 0
}
